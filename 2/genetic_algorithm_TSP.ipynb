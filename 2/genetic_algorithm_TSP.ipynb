{
 "cells": [
  {
   "cell_type": "markdown",
   "metadata": {},
   "source": [
    "The travelling salesman problem (TSP) asks the following question: \"Given a list of cities and the distances between each pair of cities, what is the shortest possible route that visits each city and returns to the origin city?\""
   ]
  },
  {
   "cell_type": "markdown",
   "metadata": {},
   "source": [
    "* Individual: route \n",
    "* Gene: city (x,y)\n",
    "* Population: list of routes\n",
    "* Fitness: inverse of route length\n",
    "* Parents: two routes that are used to create a new route\n",
    "* Mating pool: list of parents for the next population\n",
    "* Elitism: carrying the best routes into the next generation\n",
    "\n",
    "Since TSP requires to include all locations exactly one time, we will use ordered crossover: we will randomly select a subset of the first parent and fill the remainder of the route with the genes from second parent in the same order as the one in which they appear, without duplicates.<br>\n",
    "We will also use elitism to retain the best routes, fitness proportional selection and city reverse-swapping for mutation."
   ]
  },
  {
   "cell_type": "code",
   "execution_count": 4,
   "metadata": {},
   "outputs": [],
   "source": [
    "import numpy as np\n",
    "import random, operator, matplotlib.pyplot as plt\n",
    "import pandas as pd"
   ]
  },
  {
   "cell_type": "code",
   "execution_count": 5,
   "metadata": {},
   "outputs": [],
   "source": [
    "class City:\n",
    "    def __init__(self, x, y):\n",
    "        self.x = x\n",
    "        self.y = y\n",
    "    \n",
    "    def distance(self, other):\n",
    "        return np.sqrt(((self.x - other.x) ** 2) + ((self.y - other.y) ** 2))\n",
    "    \n",
    "    def __repr__(self):\n",
    "        return \"(\" + str(self.x) + \",\" + str(self.y) + \")\""
   ]
  },
  {
   "cell_type": "code",
   "execution_count": 6,
   "metadata": {},
   "outputs": [],
   "source": [
    "class Fitness:\n",
    "    def __init__(self, route):\n",
    "        self.route = route\n",
    "        self.distance = 0.0\n",
    "        self.fitness= 0.0\n",
    "    \n",
    "    def route_distance(self):\n",
    "        if self.distance == 0:\n",
    "            path_length = 0\n",
    "            for i in range(0, len(self.route)):\n",
    "                from_city = self.route[i]\n",
    "                to_city = None\n",
    "                if i + 1 < len(self.route):\n",
    "                    to_city = self.route[i + 1]\n",
    "                else:\n",
    "                    to_city = self.route[0]\n",
    "                path_length += from_city.distance(to_city)\n",
    "            self.distance = path_length\n",
    "        return self.distance\n",
    "    \n",
    "    def route_fitness(self):\n",
    "        if self.fitness == 0:\n",
    "            self.fitness = 1 / float(self.route_distance())\n",
    "        return self.fitness"
   ]
  },
  {
   "cell_type": "code",
   "execution_count": 7,
   "metadata": {},
   "outputs": [],
   "source": [
    "def create_route(city_list):\n",
    "    return random.sample(city_list, len(city_list))"
   ]
  },
  {
   "cell_type": "code",
   "execution_count": 8,
   "metadata": {},
   "outputs": [],
   "source": [
    "def initial_population(pop_size, city_list):\n",
    "    population = []\n",
    "    for i in range(0, pop_size):\n",
    "        population.append(create_route(city_list))\n",
    "    return population"
   ]
  },
  {
   "cell_type": "code",
   "execution_count": 9,
   "metadata": {},
   "outputs": [],
   "source": [
    "def rank_routes(population):\n",
    "    fitness_results = {}\n",
    "    for i in range(0,len(population)):\n",
    "        fitness_results[i] = Fitness(population[i]).route_fitness()\n",
    "        \n",
    "    return sorted(fitness_results.items(), key = operator.itemgetter(1), reverse = True)"
   ]
  },
  {
   "cell_type": "markdown",
   "metadata": {},
   "source": [
    "Holding onto our best routes in fitness proportional selection"
   ]
  },
  {
   "cell_type": "code",
   "execution_count": 10,
   "metadata": {},
   "outputs": [],
   "source": [
    "def selection(pop_ranked, elite_size):\n",
    "    selection_results = []\n",
    "    df = pd.DataFrame(np.array(pop_ranked), columns=[\"Index\",\"Fitness\"])\n",
    "    df['cum_sum'] = df.Fitness.cumsum()\n",
    "    df['cum_perc'] = 100*df.cum_sum/df.Fitness.sum()\n",
    "    \n",
    "    for i in range(0, elite_size):\n",
    "        selection_results.append(pop_ranked[i][0])\n",
    "    for i in range(0, len(pop_ranked) - elite_size):\n",
    "        pick = 100*random.random()\n",
    "        for i in range(0, len(pop_ranked)):\n",
    "            if pick <= df.iat[i,3]:\n",
    "                selection_results.append(pop_ranked[i][0])\n",
    "                break\n",
    "    return selection_results"
   ]
  },
  {
   "cell_type": "code",
   "execution_count": 20,
   "metadata": {},
   "outputs": [],
   "source": [
    "def mating_pool(population, selection_results):\n",
    "    matingpool = []\n",
    "    for i in range(0, len(selection_results)):\n",
    "        index = selection_results[i]\n",
    "        matingpool.append(population[index])\n",
    "    return matingpool"
   ]
  },
  {
   "cell_type": "code",
   "execution_count": 21,
   "metadata": {},
   "outputs": [],
   "source": [
    "def breed(parent1, parent2):\n",
    "    child = []\n",
    "    child_1 = []\n",
    "    child_2 = []\n",
    "    gene_1 = int(random.random() * len(parent1))\n",
    "    gene_2 = int(random.random() * len(parent1))\n",
    "    start_gene = min(gene_1, gene_2)\n",
    "    end_gene = max(gene_1, gene_2)\n",
    "    \n",
    "    for i in range(start_gene, end_gene):\n",
    "        child_1.append(parent1[i]) \n",
    "        \n",
    "    child = [item for item in parent2 if item not in child_1]\n",
    "    for gene in child_1[::-1]:\n",
    "        child.insert(start_gene, gene)\n",
    "    return child"
   ]
  },
  {
   "cell_type": "code",
   "execution_count": 22,
   "metadata": {},
   "outputs": [],
   "source": [
    "def breed_population(matingpool, elite_size):\n",
    "    children = []\n",
    "    length = len(matingpool) - elite_size\n",
    "    pool = random.sample(matingpool, len(matingpool))\n",
    "\n",
    "    for i in range(0,elite_size):\n",
    "        children.append(matingpool[i])\n",
    "    \n",
    "    for i in range(0, length):\n",
    "        child = breed(pool[i], pool[len(matingpool)-i-1])\n",
    "        children.append(child)\n",
    "    return children"
   ]
  },
  {
   "cell_type": "code",
   "execution_count": 23,
   "metadata": {},
   "outputs": [],
   "source": [
    "def mutate(individual, p):\n",
    "    if random.random() > p:\n",
    "        return individual\n",
    "    indexes=[]\n",
    "    while len(indexes) < 1:\n",
    "        indexes = np.random.choice(len(individual) + 1, 2, replace=False)\n",
    "    tmp = individual[min(indexes): max(indexes)]\n",
    "    tmp = tmp[::-1]\n",
    "    individual[min(indexes): max(indexes)] = tmp\n",
    "    return individual"
   ]
  },
  {
   "cell_type": "code",
   "execution_count": 24,
   "metadata": {},
   "outputs": [],
   "source": [
    "def mutate_population(population, p):\n",
    "    mutated_pop = []\n",
    "\n",
    "    for ind in range(0, len(population)):\n",
    "        mutated_ind = mutate(population[ind], p)\n",
    "        mutated_pop.append(mutated_ind)\n",
    "    return mutated_pop"
   ]
  },
  {
   "cell_type": "code",
   "execution_count": 25,
   "metadata": {},
   "outputs": [],
   "source": [
    "def next_generation(current_gen, elite_size, p):\n",
    "    pop_ranked = rank_routes(current_gen)\n",
    "    selection_results = selection(pop_ranked, elite_size)\n",
    "    matingpool = mating_pool(current_gen, selection_results)\n",
    "    children = breed_population(matingpool, elite_size)\n",
    "    nextgeneration = mutate_population(children, p)\n",
    "    return nextgeneration"
   ]
  },
  {
   "cell_type": "markdown",
   "metadata": {},
   "source": [
    "## Running the algorithm"
   ]
  },
  {
   "cell_type": "code",
   "execution_count": 26,
   "metadata": {},
   "outputs": [],
   "source": [
    "city_list = []\n",
    "\n",
    "with open(r'data_131.txt', 'r') as f:\n",
    "    for line in f:\n",
    "        x=int(line.split()[1])\n",
    "        y=int(line.split()[2])\n",
    "        city_list.append(City(x, y))"
   ]
  },
  {
   "cell_type": "markdown",
   "metadata": {},
   "source": [
    "# Training plot"
   ]
  },
  {
   "cell_type": "code",
   "execution_count": 27,
   "metadata": {},
   "outputs": [],
   "source": [
    "def genetic_algorithm_plot(population, pop_size, elite_size, p, generations):\n",
    "    pop = initial_population(pop_size, population)\n",
    "    print(\"Initial distance: \" + str(1 / rank_routes(pop)[0][1]))\n",
    "    progress = []\n",
    "    progress.append(1 / rank_routes(pop)[0][1])\n",
    "    \n",
    "    for i in range(0, generations):\n",
    "        pop = next_generation(pop, elite_size, p)\n",
    "        progress.append(1 / rank_routes(pop)[0][1])\n",
    "        \n",
    "    print(\"Final distance: \" + str(1 / rank_routes(pop)[0][1]))\n",
    "    \n",
    "    plt.plot(progress)\n",
    "    plt.ylabel('Distance')\n",
    "    plt.xlabel('Generation')\n",
    "    plt.show()\n",
    "    \n",
    "    best_index = rank_routes(pop)[0][0]\n",
    "    best_route = pop[best_index]\n",
    "    return best_route"
   ]
  },
  {
   "cell_type": "code",
   "execution_count": 29,
   "metadata": {},
   "outputs": [
    {
     "name": "stdout",
     "output_type": "stream",
     "text": [
      "Initial distance: 4147.135452350517\n",
      "Final distance: 1002.5552399656577\n"
     ]
    },
    {
     "data": {
      "image/png": "[encoded data removed]",
      "text/plain": [
       "<Figure size 432x288 with 1 Axes>"
      ]
     },
     "metadata": {},
     "output_type": "display_data"
    },
    {
     "data": {
      "text/plain": [
       "[(77,21),\n",
       " (84,20),\n",
       " (107,27),\n",
       " (79,37),\n",
       " (74,35),\n",
       " (34,15),\n",
       " (34,5),\n",
       " (25,11),\n",
       " (25,9),\n",
       " (25,23),\n",
       " (28,28),\n",
       " (25,26),\n",
       " (25,22),\n",
       " (18,11),\n",
       " (18,13),\n",
       " (15,19),\n",
       " (9,10),\n",
       " (12,10),\n",
       " (11,10),\n",
       " (15,13),\n",
       " (18,17),\n",
       " (28,16),\n",
       " (28,20),\n",
       " (34,29),\n",
       " (41,32),\n",
       " (41,34),\n",
       " (38,30),\n",
       " (35,31),\n",
       " (32,31),\n",
       " (34,31),\n",
       " (41,36),\n",
       " (41,35),\n",
       " (18,23),\n",
       " (15,25),\n",
       " (5,19),\n",
       " (5,13),\n",
       " (15,8),\n",
       " (10,10),\n",
       " (12,5),\n",
       " (8,0),\n",
       " (2,0),\n",
       " (0,13),\n",
       " (5,8),\n",
       " (5,25),\n",
       " (0,26),\n",
       " (0,27),\n",
       " (5,31),\n",
       " (15,43),\n",
       " (18,42),\n",
       " (18,41),\n",
       " (15,37),\n",
       " (18,33),\n",
       " (18,29),\n",
       " (18,39),\n",
       " (18,35),\n",
       " (18,31),\n",
       " (38,20),\n",
       " (41,23),\n",
       " (40,22),\n",
       " (48,27),\n",
       " (57,12),\n",
       " (57,25),\n",
       " (56,25),\n",
       " (61,45),\n",
       " (61,47),\n",
       " (57,44),\n",
       " (51,47),\n",
       " (51,45),\n",
       " (28,47),\n",
       " (18,45),\n",
       " (18,44),\n",
       " (28,40),\n",
       " (28,43),\n",
       " (34,41),\n",
       " (34,38),\n",
       " (38,34),\n",
       " (34,26),\n",
       " (33,26),\n",
       " (32,26),\n",
       " (33,29),\n",
       " (33,31),\n",
       " (28,34),\n",
       " (28,30),\n",
       " (25,28),\n",
       " (18,25),\n",
       " (18,27),\n",
       " (5,37),\n",
       " (0,39),\n",
       " (5,43),\n",
       " (18,37),\n",
       " (15,31),\n",
       " (18,19),\n",
       " (25,29),\n",
       " (25,24),\n",
       " (18,21),\n",
       " (18,15),\n",
       " (25,15),\n",
       " (33,15),\n",
       " (38,16),\n",
       " (35,17),\n",
       " (48,22),\n",
       " (64,22),\n",
       " (48,6),\n",
       " (63,6),\n",
       " (74,6),\n",
       " (79,10),\n",
       " (80,10),\n",
       " (84,6),\n",
       " (80,5),\n",
       " (78,10),\n",
       " (71,13),\n",
       " (74,12),\n",
       " (71,11),\n",
       " (71,16),\n",
       " (74,20),\n",
       " (74,16),\n",
       " (74,24),\n",
       " (74,29),\n",
       " (79,33),\n",
       " (78,32),\n",
       " (84,34),\n",
       " (84,38),\n",
       " (80,41),\n",
       " (78,39),\n",
       " (74,39),\n",
       " (71,47),\n",
       " (71,45),\n",
       " (78,35),\n",
       " (84,29),\n",
       " (81,17),\n",
       " (84,24)]"
      ]
     },
     "execution_count": 29,
     "metadata": {},
     "output_type": "execute_result"
    }
   ],
   "source": [
    "genetic_algorithm_plot(population=city_list, pop_size=40, elite_size=12, p=0.4, generations=5000)"
   ]
  }
 ],
 "metadata": {
  "kernelspec": {
   "display_name": "Python 3",
   "language": "python",
   "name": "python3"
  },
  "language_info": {
   "codemirror_mode": {
    "name": "ipython",
    "version": 3
   },
   "file_extension": ".py",
   "mimetype": "text/x-python",
   "name": "python",
   "nbconvert_exporter": "python",
   "pygments_lexer": "ipython3",
   "version": "3.5.2"
  }
 },
 "nbformat": 4,
 "nbformat_minor": 2
}
